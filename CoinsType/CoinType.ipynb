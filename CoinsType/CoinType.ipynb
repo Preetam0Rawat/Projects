{
 "cells": [
  {
   "cell_type": "code",
   "execution_count": null,
   "id": "07ff3586",
   "metadata": {},
   "outputs": [],
   "source": [
    "import numpy as np\n",
    "import pandas as pd\n",
    "import matplotlib.pyplot as plt\n",
    "from pathlib import Path\n",
    "from PIL import Image\n",
    "from tqdm import tqdm_notebook\n",
    "from sklearn.model_selection import train_test_split\n",
    "\n",
    "%matplotlib inline"
   ]
  },
  {
   "cell_type": "code",
   "execution_count": null,
   "id": "1d3f02b4",
   "metadata": {},
   "outputs": [],
   "source": [
    "input_path = Path('/user/data/coins/classification_dataset/all/')\n",
    "im_size = 320"
   ]
  },
  {
   "cell_type": "code",
   "execution_count": null,
   "id": "254aea9c",
   "metadata": {},
   "outputs": [],
   "source": [
    "image_files = list(input_path.glob('*.jpg'))"
   ]
  },
  {
   "cell_type": "code",
   "execution_count": null,
   "id": "ff4cc44f",
   "metadata": {},
   "outputs": [],
   "source": [
    "def read_file(fname):\n",
    "    # Read image\n",
    "    im = Image.open(fname)\n",
    "\n",
    "    # Resize\n",
    "    im.thumbnail((im_size, im_size))\n",
    "\n",
    "    # Convert to numpy array\n",
    "    im_array = np.asarray(im)\n",
    "\n",
    "    # Get target\n",
    "    target = int(fname.stem.split('_')[0])\n",
    "\n",
    "    return im_array, target"
   ]
  },
  {
   "cell_type": "code",
   "execution_count": null,
   "id": "53949f09",
   "metadata": {},
   "outputs": [],
   "source": [
    "images = []\n",
    "targets = []\n",
    "\n",
    "for image_file in tqdm_notebook(image_files):\n",
    "    image, target = read_file(image_file)\n",
    "    \n",
    "    images.append(image)\n",
    "    targets.append(target)"
   ]
  },
  {
   "cell_type": "code",
   "execution_count": null,
   "id": "f9d1eddd",
   "metadata": {},
   "outputs": [],
   "source": [
    "X = (np.array(images).astype(np.float32) / 127.5) - 1\n",
    "y_cls = np.array(targets)"
   ]
  },
  {
   "cell_type": "code",
   "execution_count": null,
   "id": "03fbcdd6",
   "metadata": {},
   "outputs": [],
   "source": [
    "X.shape, y_cls.shape"
   ]
  },
  {
   "cell_type": "code",
   "execution_count": null,
   "id": "56981bc1",
   "metadata": {},
   "outputs": [],
   "source": [
    "i = 555\n",
    "plt.imshow(np.uint8((X[i] + 1) * 127.5))\n",
    "plt.title(str(y_cls[i]));"
   ]
  },
  {
   "cell_type": "code",
   "execution_count": null,
   "id": "c9929538",
   "metadata": {},
   "outputs": [],
   "source": [
    "coins_ids = {\n",
    "    5: 0,\n",
    "    10: 1,\n",
    "    25: 2,\n",
    "    50: 3,\n",
    "    100: 4\n",
    "}\n",
    "\n",
    "ids_coins = [5, 10, 25, 50, 100]\n",
    "\n",
    "y = np.array([coins_ids[coin] for coin in y_cls])"
   ]
  },
  {
   "cell_type": "code",
   "execution_count": null,
   "id": "a4976b17",
   "metadata": {},
   "outputs": [],
   "source": [
    "im_width = X.shape[2]\n",
    "im_height = X.shape[1]\n",
    "\n",
    "im_width, im_height"
   ]
  },
  {
   "cell_type": "code",
   "execution_count": null,
   "id": "3df51f89",
   "metadata": {},
   "outputs": [],
   "source": [
    "from keras.layers import Conv2D, MaxPool2D, Flatten, GlobalAvgPool2D, GlobalMaxPool2D, Dense\n",
    "from keras.models import Sequential\n",
    "from keras.optimizers import Adam\n",
    "from keras.callbacks import ReduceLROnPlateau, ModelCheckpoint, EarlyStopping"
   ]
  },
  {
   "cell_type": "code",
   "execution_count": null,
   "id": "5e30c169",
   "metadata": {},
   "outputs": [],
   "source": [
    "model = Sequential()\n",
    "\n",
    "# CNN network\n",
    "model.add( Conv2D(16, 3, activation='relu', padding='same', input_shape=(im_height, im_width, 3)) )\n",
    "model.add( MaxPool2D(2) )\n",
    "\n",
    "model.add( Conv2D(32, 3, activation='relu', padding='same') )\n",
    "model.add( MaxPool2D(2) )\n",
    "\n",
    "model.add( Conv2D(64, 3, activation='relu', padding='same') )\n",
    "model.add( MaxPool2D(2) )\n",
    "\n",
    "model.add( Conv2D(128, 3, activation='relu', padding='same') )\n",
    "model.add( MaxPool2D(2) )\n",
    "\n",
    "model.add( Conv2D(256, 3, activation='relu', padding='same') )\n",
    "\n",
    "# Transition between CNN and MLP\n",
    "model.add( GlobalAvgPool2D() )\n",
    "\n",
    "# MLP network\n",
    "model.add( Dense(256, activation='relu') )\n",
    "\n",
    "model.add( Dense(5, activation='softmax') )\n",
    "\n",
    "model.summary()"
   ]
  },
  {
   "cell_type": "code",
   "execution_count": null,
   "id": "60ca1f0a",
   "metadata": {},
   "outputs": [],
   "source": [
    "optim = Adam(lr=1e-3)\n",
    "model.compile(optim, 'sparse_categorical_crossentropy', metrics=['acc'])"
   ]
  },
  {
   "cell_type": "code",
   "execution_count": null,
   "id": "d6b3d97b",
   "metadata": {},
   "outputs": [],
   "source": [
    "callbacks = [\n",
    "    ReduceLROnPlateau(patience=5, factor=0.1, verbose=True),\n",
    "    ModelCheckpoint('best.model', save_best_only=True),\n",
    "    EarlyStopping(patience=12)\n",
    "]\n",
    "\n",
    "history = model.fit(X_train, y_train, epochs=2000, validation_data=(X_valid, y_valid), batch_size=32,\n",
    "                   callbacks=callbacks)"
   ]
  },
  {
   "cell_type": "code",
   "execution_count": null,
   "id": "e8afcc26",
   "metadata": {},
   "outputs": [],
   "source": [
    "df_history = pd.DataFrame(history.history)"
   ]
  },
  {
   "cell_type": "code",
   "execution_count": null,
   "id": "3175d616",
   "metadata": {},
   "outputs": [],
   "source": [
    "ax = df_history[['acc', 'val_acc']].plot()\n",
    "ax.set_ylim(0.9, 1)"
   ]
  },
  {
   "cell_type": "code",
   "execution_count": null,
   "id": "c0bc06a7",
   "metadata": {},
   "outputs": [],
   "source": [
    "df_history['val_acc'].max()\n"
   ]
  },
  {
   "cell_type": "code",
   "execution_count": null,
   "id": "289c3e20",
   "metadata": {},
   "outputs": [],
   "source": [
    "model.load_weights('best.model')\n"
   ]
  },
  {
   "cell_type": "code",
   "execution_count": null,
   "id": "bba3413d",
   "metadata": {},
   "outputs": [],
   "source": [
    "model.evaluate(X_valid, y_valid)\n"
   ]
  },
  {
   "cell_type": "code",
   "execution_count": null,
   "id": "ceb3935a",
   "metadata": {},
   "outputs": [],
   "source": [
    "y_pred = model.predict(X_valid)\n"
   ]
  },
  {
   "cell_type": "code",
   "execution_count": null,
   "id": "4845968f",
   "metadata": {},
   "outputs": [],
   "source": [
    "y_pred_cls = y_pred.argmax(1)\n"
   ]
  },
  {
   "cell_type": "code",
   "execution_count": null,
   "id": "70e0b336",
   "metadata": {},
   "outputs": [],
   "source": [
    "errors = np.where(y_pred_cls != y_valid)[0]\n",
    "errors"
   ]
  },
  {
   "cell_type": "code",
   "execution_count": null,
   "id": "4d720ed7",
   "metadata": {},
   "outputs": [],
   "source": [
    "i = 55\n",
    "plt.figure(figsize=(10, 10))\n",
    "im = Image.open(fname_valid[i])\n",
    "plt.imshow(np.uint8(im), interpolation='bilinear')\n",
    "plt.title('Class: {}, Predicted: {}'.format(ids_coins[y_valid[i]], ids_coins[np.argmax(y_pred[i])]"
   ]
  }
 ],
 "metadata": {
  "kernelspec": {
   "display_name": "Python 3 (ipykernel)",
   "language": "python",
   "name": "python3"
  },
  "language_info": {
   "codemirror_mode": {
    "name": "ipython",
    "version": 3
   },
   "file_extension": ".py",
   "mimetype": "text/x-python",
   "name": "python",
   "nbconvert_exporter": "python",
   "pygments_lexer": "ipython3",
   "version": "3.11.0"
  }
 },
 "nbformat": 4,
 "nbformat_minor": 5
}
